{
 "cells": [
  {
   "cell_type": "code",
   "execution_count": 2,
   "id": "0dcb36a8-41c8-4c57-a485-7b0f03dd7770",
   "metadata": {
    "tags": []
   },
   "outputs": [],
   "source": [
    "from langchain.llms import Ollama\n",
    "ollama = Ollama(base_url='http://localhost:11434',\n",
    "model=\"llama2\")\n"
   ]
  },
  {
   "cell_type": "code",
   "execution_count": 3,
   "id": "fc013019-8be4-447f-b2c2-82f5f3adaf8c",
   "metadata": {
    "tags": []
   },
   "outputs": [
    {
     "name": "stdout",
     "output_type": "stream",
     "text": [
      "\n",
      "The sky appears blue because of a phenomenon called Rayleigh scattering, which occurs when sunlight enters Earth's atmosphere. The sunlight encounters tiny molecules of gases such as nitrogen and oxygen in the air, which scatters the light in all directions.\n",
      "\n",
      "Rayleigh scattering is a process where shorter wavelengths of light (such as blue and violet) are scattered more than longer wavelengths (such as red and orange). This is because the shorter wavelengths have a smaller wave length, which means they have a shorter distance to travel through the air, making them more susceptible to scattering.\n",
      "\n",
      "As a result of this scattering, the blue light is dispersed throughout the atmosphere, giving the sky its blue appearance. The reason why the sky appears blue during the daytime and not at night is because the Earth is rotating, and the sunlight is constantly changing direction as it travels through the atmosphere. This means that the light is constantly being scattered in different directions, giving the sky a blue hue.\n",
      "\n",
      "It's worth noting that the exact shade of blue can vary depending on the time of day, the weather conditions, and the amount of pollution in the air. For example, during sunrise and sunset, the sky may take on a more orange or red tint due to the scattering of light by the atmosphere.\n",
      "\n",
      "In summary, the sky appears blue because of the way that light is scattered by the tiny molecules of gases in the air. The shorter wavelengths of light (such as blue and violet) are scattered more than the longer wavelengths (such as red and orange), which gives the sky its characteristic blue color.\n"
     ]
    }
   ],
   "source": [
    "response = ollama(\"why is the sky blue\")\n",
    "print(response)"
   ]
  },
  {
   "cell_type": "code",
   "execution_count": 5,
   "id": "87529d98-5a4e-4e60-b329-475d7d4b0138",
   "metadata": {
    "tags": []
   },
   "outputs": [
    {
     "name": "stdout",
     "output_type": "stream",
     "text": [
      "A rainbow is a beautiful natural phenomenon that occurs when sunlight passes through water droplets in the air. Here's what makes a rainbow:\n",
      "\n",
      "1. Sunlight: Rainbows are created when sunlight passes through water droplets in the air, such as after a storm or near a waterfall. The sunlight is refracted, or bent, as it passes through the droplets, and this bending of light causes the colors of the rainbow to appear.\n",
      "2. Water Droplets: Rainbows require small water droplets in the air to form. These droplets can be in the shape of clouds, mist, or even just a few drops of water in the air. The size and shape of the droplets determine the angle at which the light is refracted, which affects the appearance of the rainbow.\n",
      "3. Angle of the Sun: The angle at which the sunlight enters the water droplets is important for creating a rainbow. The sunlight needs to enter the droplets at an angle of at least 42 degrees to produce a full rainbow. If the sunlight enters the droplets at a smaller angle, a partial rainbow may appear.\n",
      "4. Refraction: When sunlight passes through the water droplets, it is refracted, or bent. This bending of light causes the different colors of the sunlight to spread out and separate from each other, creating the colors of the rainbow. The amount of refraction depends on the angle of the sunlight and the size of the water droplets.\n",
      "5. Dispersion: In addition to refraction, the colors of the rainbow are also affected by a phenomenon called dispersion. When light passes through a prism or other refractive material, it is separated into its component colors, which are then dispersed at different angles. This effect is what creates the bands of color in a rainbow.\n",
      "6. observer's position: The position of the observer can also affect the appearance of a rainbow. If the observer is too close to the water droplets, they may not be able to see the entire rainbow because the colors may overlap. On the other hand, if the observer is too far away, they may not be able to see the details of the rainbow.\n",
      "\n",
      "So, to sum it up, a rainbow is created when sunlight passes through water droplets in the air at a specific angle, causing the light to refract and separate into its component colors. The observer's position also plays a role in determining what they can see and how the rainbow appears to them.\n"
     ]
    }
   ],
   "source": [
    "print(ollama(\"what makes a rainbow?\"))"
   ]
  },
  {
   "cell_type": "code",
   "execution_count": 6,
   "id": "c2ac4091-f271-4a3e-8f2f-b22f3d72135b",
   "metadata": {
    "tags": []
   },
   "outputs": [
    {
     "name": "stdout",
     "output_type": "stream",
     "text": [
      "\n",
      "A double rainbow is formed when sunlight passes through water droplets in the atmosphere at two different angles, creating two separate bows. The first bow is called the \"primary rainbow\" and is produced by light that passes through the droplets at an angle of about 42 degrees. The second bow is called the \"secondary rainbow\" and is produced by light that passes through the droplets at an angle of about 56 degrees.\n",
      "\n",
      "Yes, it is possible to have triple or quadruple rainbows. A triple rainbow is formed when there are three bows in the sky, each with a slightly different angle of refraction. This can happen when the sunlight passes through water droplets at three different angles. A quadruple rainbow is similar, but with four separate bows.\n",
      "\n",
      "Here's how triple and quadruple rainbows are formed:\n",
      "\n",
      "Triple Rainbow:\n",
      "\n",
      "* The first bow is the primary rainbow, produced by light that passes through the droplets at an angle of about 42 degrees.\n",
      "* The second bow is the secondary rainbow, produced by light that passes through the droplets at an angle of about 56 degrees.\n",
      "* The third bow is the \"tertiary\" rainbow, produced by light that passes through the droplets at an angle of about 68 degrees (or slightly higher). This bow is often fainter and wider than the primary or secondary bows.\n",
      "\n",
      "Quadruple Rainbow:\n",
      "\n",
      "* The first bow is the primary rainbow, produced by light that passes through the droplets at an angle of about 42 degrees.\n",
      "* The second bow is the secondary rainbow, produced by light that passes through the droplets at an angle of about 56 degrees.\n",
      "* The third bow is the \"tertiary\" rainbow, produced by light that passes through the droplets at an angle of about 68 degrees (or slightly higher). This bow is often fainter and wider than the primary or secondary bows.\n",
      "* The fourth bow is the \"quadruple\" rainbow, produced by light that passes through the droplets at an angle of about 79 degrees (or slightly higher). This bow is usually very faint and may not be easily visible to the naked eye.\n",
      "\n",
      "It's worth noting that triple and quadruple rainbows are relatively rare because the conditions necessary to produce them are quite specific. The sun, cloud, and atmospheric conditions must all align in just the right way for these types of rainbows to appear.\n"
     ]
    }
   ],
   "source": [
    "print(ollama(\"how does a double rainbow form? can you have triple/quadruple rainbows?\"))"
   ]
  },
  {
   "cell_type": "code",
   "execution_count": null,
   "id": "d52d7c38-9dbf-4ebe-8372-de34610e58c7",
   "metadata": {},
   "outputs": [],
   "source": []
  }
 ],
 "metadata": {
  "kernelspec": {
   "display_name": "Python 3 (ipykernel)",
   "language": "python",
   "name": "python3"
  },
  "language_info": {
   "codemirror_mode": {
    "name": "ipython",
    "version": 3
   },
   "file_extension": ".py",
   "mimetype": "text/x-python",
   "name": "python",
   "nbconvert_exporter": "python",
   "pygments_lexer": "ipython3",
   "version": "3.11.5"
  }
 },
 "nbformat": 4,
 "nbformat_minor": 5
}
