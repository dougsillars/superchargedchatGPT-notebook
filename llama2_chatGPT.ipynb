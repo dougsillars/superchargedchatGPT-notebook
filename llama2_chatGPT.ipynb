{
 "cells": [
  {
   "cell_type": "code",
   "execution_count": 4,
   "id": "8fdd56b9-56b4-4dac-ba0a-a1ef13d4b0ed",
   "metadata": {
    "tags": []
   },
   "outputs": [],
   "source": [
    "#chatGPT\n",
    "\n",
    "from openai import OpenAI\n",
    "from dotenv import dotenv_values\n",
    "openaikey = dotenv_values(\".env\")['openai_apikey']\n",
    "client = OpenAI(\n",
    "   api_key=openaikey\n",
    ")\n",
    "\n",
    "#ollama\n",
    "from langchain.llms import Ollama\n",
    "ollama = Ollama(base_url='http://localhost:11434',\n",
    "model=\"llama2\")\n"
   ]
  },
  {
   "cell_type": "code",
   "execution_count": 7,
   "id": "c4889de8-b117-4445-b8f2-fec2aaf3388c",
   "metadata": {
    "tags": []
   },
   "outputs": [
    {
     "name": "stdout",
     "output_type": "stream",
     "text": [
      "Messages have been reset to start.\n"
     ]
    }
   ],
   "source": [
    "import json\n",
    "\n",
    "# Initialize an empty array to store messages\n",
    "messages = []\n",
    "\n",
    "#this is the addchat function\n",
    "def add_chat(role, messageContent):\n",
    "    # Create a dictionary to represent the chat request\n",
    "    message = {\n",
    "        \"role\": role,\n",
    "        \"content\": messageContent\n",
    "    }\n",
    "    # Append the JSON object to the 'messages' array\n",
    "    useMessages.append(message)\n",
    "    #now make a query to ChatGPT with the new Message array\n",
    "    response = client.chat.completions.create(\n",
    "      model=useModel,\n",
    "      messages=useMessages, \n",
    "      temperature = useTemp,\n",
    "      top_p=  useTopP,\n",
    "      presence_penalty = usePresence_penalty,\n",
    "      frequency_penalty=  useFrequency_penalty,\n",
    "      n=numberofChoices\n",
    "        \n",
    "    )\n",
    "    #when the response comes back, add it t the useMessages array\n",
    "    newMessage = {\"role\":response.choices[0].message.role,\"content\":response.choices[0].message.content}\n",
    "    useMessages.append(newMessage)\n",
    "    \n",
    "    \n",
    "    #ollama response\n",
    "    ollamaResponse = ollama(messageContent)\n",
    "    \n",
    "    #print just the chat response\n",
    "    print(f\"ChatGPT: {response.choices[0].message.content}\")\n",
    "    print(f\"This query cost {response.usage.total_tokens} tokens\\n\\n\")\n",
    "    print(f\"Ollama: {ollamaResponse}\")\n",
    "    \n",
    "#reset\n",
    "def reset_chat():\n",
    "    global useMessages\n",
    "    useMessages = []\n",
    "    useMessages=list(startMessages)\n",
    "    print(\"Messages have been reset to start.\")\n",
    "reset_chat()"
   ]
  },
  {
   "cell_type": "code",
   "execution_count": 8,
   "id": "2d4ec8c3-1b96-4039-beba-69cf742be69b",
   "metadata": {
    "tags": []
   },
   "outputs": [
    {
     "name": "stdout",
     "output_type": "stream",
     "text": [
      "ChatGPT: In Herman Melville's novel \"Moby-Dick,\" Captain Ahab does encounter the great white whale, Moby Dick, but the outcome of their encounter is left open to interpretation. The novel ends with a climactic battle between Ahab and the whale, but Melville intentionally leaves the fate of Ahab and Moby Dick ambiguous.\n",
      "\n",
      "Throughout the story, Ahab is consumed by an obsessive desire to seek revenge on Moby Dick, who had previously bitten off his leg. Ahab's relentless pursuit of the whale leads him and his crew on a dangerous and ultimately tragic voyage. In the final confrontation, Ahab harpoons Moby Dick, but the whale retaliates by ramming the Pequod, Ahab's ship, causing it to sink. The narrative then shifts to the perspective of Ishmael, the novel's narrator, who survives the sinking and is left adrift on a coffin.\n",
      "\n",
      "Melville deliberately leaves the fate of Ahab and Moby Dick uncertain, allowing readers to interpret the ending in various ways. Some readers believe that Ahab perishes in the battle, while others speculate that he may have survived. Similarly, the fate of Moby Dick is also left open, with some suggesting that the whale may have survived the encounter.\n",
      "\n",
      "It is important to note that \"Moby-Dick\" is a work of fiction, and the ambiguity surrounding the ending is a deliberate artistic choice by the author. As such, there is no definitive answer to whether Ahab caught the whale. The novel invites readers to contemplate themes of obsession, fate, and the human struggle against nature, rather than providing a straightforward resolution to the story.\n",
      "This query cost 385 tokens\n",
      "\n",
      "\n",
      "Ollama: \n",
      "No, Ahab did not catch the white whale in the story \"Moby-Dick\" by Herman Melville. In fact, Ahab's obsession with catching Moby-Dick proves to be his ultimate downfall. Despite his relentless pursuit of the whale, Ahab is unable to capture it and ultimately meets a tragic end when he is dragged underwater by Moby-Dick. The novel ends with the haunting image of Ahab's body being devoured by sharks, symbolizing the futility of his quest.\n"
     ]
    }
   ],
   "source": [
    "add_chat(\"user\",\"did ahab catch the whale?\")"
   ]
  },
  {
   "cell_type": "code",
   "execution_count": null,
   "id": "e7a004c0-7d19-43d8-83a3-2f04299765a4",
   "metadata": {},
   "outputs": [],
   "source": []
  }
 ],
 "metadata": {
  "kernelspec": {
   "display_name": "Python 3 (ipykernel)",
   "language": "python",
   "name": "python3"
  },
  "language_info": {
   "codemirror_mode": {
    "name": "ipython",
    "version": 3
   },
   "file_extension": ".py",
   "mimetype": "text/x-python",
   "name": "python",
   "nbconvert_exporter": "python",
   "pygments_lexer": "ipython3",
   "version": "3.11.5"
  }
 },
 "nbformat": 4,
 "nbformat_minor": 5
}
