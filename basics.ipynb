{
 "cells": [
  {
   "cell_type": "markdown",
   "id": "bf9d563c-9287-4de3-a9f6-e40964a497cb",
   "metadata": {},
   "source": [
    "Welcome to the basics notebook, where we will walk through a few of the basics in Jupyter Notebooks and using Python.  This is a cell that has just text for you to read (note no brackets with a number to the left).  Code cells have this bracket.  The number indicates the execution order (from 1 to infinity).\n",
    "\n",
    "The First cell below is a simple print statement. When you execute thye statement, Python will print \"hello world\"\n",
    "Execute a cell by clicking it, and either \n",
    "* pressing the play button\n",
    "* shift-enter"
   ]
  },
  {
   "cell_type": "code",
   "execution_count": 1,
   "id": "9222659e-e67d-4db8-a431-c01dad516324",
   "metadata": {
    "tags": []
   },
   "outputs": [
    {
     "name": "stdout",
     "output_type": "stream",
     "text": [
      "hello world\n"
     ]
    }
   ],
   "source": [
    "print(\"hello world\")"
   ]
  },
  {
   "cell_type": "markdown",
   "id": "54bf2c52-4c0d-44b5-81db-0fbbc28770ed",
   "metadata": {},
   "source": [
    "Ok. Now let's introduce variables.  In the fiorst line we'll define the variable *four* and set it equal to 2+2. The second line will; print the value of *four*."
   ]
  },
  {
   "cell_type": "code",
   "execution_count": 3,
   "id": "3718606f-127a-4c94-a7ca-331140193e07",
   "metadata": {
    "tags": []
   },
   "outputs": [
    {
     "name": "stdout",
     "output_type": "stream",
     "text": [
      "4\n"
     ]
    }
   ],
   "source": [
    "four = 2+2\n",
    "print(four)"
   ]
  },
  {
   "cell_type": "raw",
   "id": "1641a3dc-8c16-46c8-bcac-253c01f4c6ce",
   "metadata": {},
   "source": [
    "The order of the cell evaulation is important.  When the cell abnove is the last to be executed, *four* has the value 4.  If the cell below is the lasty to be executed, *four* will have the value 12"
   ]
  },
  {
   "cell_type": "code",
   "execution_count": 4,
   "id": "c60b6bf5-a143-4e2d-9709-9540f33ad69b",
   "metadata": {
    "tags": []
   },
   "outputs": [
    {
     "name": "stdout",
     "output_type": "stream",
     "text": [
      "12\n"
     ]
    }
   ],
   "source": [
    "four=12\n",
    "print(four)"
   ]
  },
  {
   "cell_type": "markdown",
   "id": "3edbe9d0-b0b6-4514-a9dd-603a833453fd",
   "metadata": {},
   "source": [
    "ok.  That's a *quick* and very incomplete uintroduction to python and Jupyter Notebooks.\n",
    "\n",
    "Let's get into using CHhatGPT! Our first cell here is to tell Python/Jupyter the libraries to add. \n",
    "\n",
    "Lines 1-2\n",
    "We'll define openai as OpenAI, and the dotenv as dotenv_values.\n",
    "Line 3: We read from the .env file and get the openai_apikey\n",
    "Line 4-6:  We define client to make API calls into OpenAI, defining the api_key.  This will allopw us to use the API with our key.  Instructions to create the .env file are in our book.\n"
   ]
  },
  {
   "cell_type": "code",
   "execution_count": 5,
   "id": "cb1eeee5-cd4e-4a73-94ce-fec8f7722af0",
   "metadata": {
    "tags": []
   },
   "outputs": [],
   "source": [
    "from openai import OpenAI\n",
    "from dotenv import dotenv_values\n",
    "openaikey = dotenv_values(\".env\")['openai_apikey']\n",
    "client = OpenAI(\n",
    "   api_key=openaikey\n",
    ")\n"
   ]
  },
  {
   "cell_type": "markdown",
   "id": "904df909-9710-4734-825b-596457244834",
   "metadata": {},
   "source": [
    "now we can use the client to make calls into ChatGPT's API.  Let's use the default chat from the documentation:\n",
    "\n",
    "The variable response will hold tjhe reply from ChatGPT.\n",
    "The API we are calling is chat.completions, and we are using the 3.5-turbo model and the message is from a user with the command \"Say this is a test!\"  We'll use temperature as 0.7.\n",
    "\n",
    "The last line prints the response.\n"
   ]
  },
  {
   "cell_type": "code",
   "execution_count": 8,
   "id": "71862c7c-72f2-49d5-a9b3-7c6435ff57f6",
   "metadata": {
    "tags": []
   },
   "outputs": [
    {
     "name": "stdout",
     "output_type": "stream",
     "text": [
      "ChatCompletion(id='chatcmpl-8N4Ux1juMODSwF59jFkfqD4w7WUBE', choices=[Choice(finish_reason='stop', index=0, message=ChatCompletionMessage(content='This is a test!', role='assistant', function_call=None, tool_calls=None))], created=1700509527, model='gpt-3.5-turbo-0613', object='chat.completion', system_fingerprint=None, usage=CompletionUsage(completion_tokens=5, prompt_tokens=13, total_tokens=18))\n"
     ]
    }
   ],
   "source": [
    "response = client.chat.completions.create(\n",
    "  model=\"gpt-3.5-turbo\",\n",
    "  messages=[\n",
    "    {\"role\": \"user\", \"content\": \"Say this is a test!\"}\n",
    "  ], \n",
    "  temperature = 0.7\n",
    ")\n",
    "print(response)\n"
   ]
  },
  {
   "cell_type": "code",
   "execution_count": 10,
   "id": "85952f2d-589a-40b6-8072-804ab00ffdc2",
   "metadata": {
    "tags": []
   },
   "outputs": [
    {
     "name": "stdout",
     "output_type": "stream",
     "text": [
      "This is a test!\n"
     ]
    }
   ],
   "source": [
    "# We can print the chat message as follows.  each parameter after the periods is used to parse the JSON output from ChatGPT\n",
    "print(response.choices[0].message.content)"
   ]
  },
  {
   "cell_type": "code",
   "execution_count": null,
   "id": "d6815d64-fcf7-419d-a810-0e759886b189",
   "metadata": {},
   "outputs": [],
   "source": []
  }
 ],
 "metadata": {
  "kernelspec": {
   "display_name": "Python 3 (ipykernel)",
   "language": "python",
   "name": "python3"
  },
  "language_info": {
   "codemirror_mode": {
    "name": "ipython",
    "version": 3
   },
   "file_extension": ".py",
   "mimetype": "text/x-python",
   "name": "python",
   "nbconvert_exporter": "python",
   "pygments_lexer": "ipython3",
   "version": "3.11.5"
  }
 },
 "nbformat": 4,
 "nbformat_minor": 5
}
